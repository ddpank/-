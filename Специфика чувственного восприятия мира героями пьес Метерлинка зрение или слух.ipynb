{
 "cells": [
  {
   "cell_type": "code",
   "execution_count": 85,
   "id": "6bac70b1",
   "metadata": {},
   "outputs": [],
   "source": [
    "s = \"вид смотр гляд лицезр наблюд зрен зрит взир глаз зениц взор\"\n",
    "see = s.split()\n",
    "h = \"слуш слыш слых звук звуч звяк молч тих тиш\"\n",
    "hear = h.split()"
   ]
  },
  {
   "cell_type": "code",
   "execution_count": 86,
   "id": "c9c329b4",
   "metadata": {},
   "outputs": [
    {
     "data": {
      "text/plain": [
       "'!\"#$%&\\'()*+,-./:;<=>?@[\\\\]^_`{|}~—'"
      ]
     },
     "execution_count": 86,
     "metadata": {},
     "output_type": "execute_result"
    }
   ],
   "source": [
    "from string import punctuation\n",
    "punctuation + '—'"
   ]
  },
  {
   "cell_type": "code",
   "execution_count": 88,
   "id": "b94d4379",
   "metadata": {},
   "outputs": [
    {
     "name": "stdout",
     "output_type": "stream",
     "text": [
      "75\n"
     ]
    }
   ],
   "source": [
    "def compare_text_file_and_list(text_file, word_list):\n",
    "    with open(text_file, mode = 'r', encoding = 'UTF-8') as file:\n",
    "        data = file.read()\n",
    "    words = data.split()\n",
    "    good_words = []\n",
    "    for i in word_list:\n",
    "        for word in words:\n",
    "            good_word = word.strip(punctuation + '-').lower()\n",
    "            if i in word:\n",
    "                good_words.append(good_word)\n",
    "    return good_words\n",
    "\n",
    "blind_see = compare_text_file_and_list('Слепые.txt', see)\n",
    "print(len(blind_see))"
   ]
  },
  {
   "cell_type": "code",
   "execution_count": 31,
   "id": "672f6021",
   "metadata": {},
   "outputs": [
    {
     "name": "stdout",
     "output_type": "stream",
     "text": [
      "69\n"
     ]
    }
   ],
   "source": [
    "inside_see = compare_text_file_and_list('Там, внутри.txt', see)\n",
    "print(len(inside_see))"
   ]
  },
  {
   "cell_type": "code",
   "execution_count": 32,
   "id": "b6708444",
   "metadata": {},
   "outputs": [
    {
     "name": "stdout",
     "output_type": "stream",
     "text": [
      "32\n"
     ]
    }
   ],
   "source": [
    "uninvited_see = compare_text_file_and_list('Непрошенная.txt', see)\n",
    "print(len(uninvited_see))"
   ]
  },
  {
   "cell_type": "code",
   "execution_count": 33,
   "id": "486fcc9a",
   "metadata": {},
   "outputs": [
    {
     "name": "stdout",
     "output_type": "stream",
     "text": [
      "82\n"
     ]
    }
   ],
   "source": [
    "blind_hear = compare_text_file_and_list('Слепые.txt', hear)\n",
    "print(len(blind_hear))"
   ]
  },
  {
   "cell_type": "code",
   "execution_count": 34,
   "id": "38aa389d",
   "metadata": {},
   "outputs": [
    {
     "name": "stdout",
     "output_type": "stream",
     "text": [
      "21\n"
     ]
    }
   ],
   "source": [
    "inside_hear = compare_text_file_and_list('Там, внутри.txt', hear)\n",
    "print(len(inside_hear))"
   ]
  },
  {
   "cell_type": "code",
   "execution_count": 35,
   "id": "33200da0",
   "metadata": {},
   "outputs": [
    {
     "name": "stdout",
     "output_type": "stream",
     "text": [
      "47\n"
     ]
    }
   ],
   "source": [
    "uninvited_hear = compare_text_file_and_list('Непрошенная.txt', hear)\n",
    "print(len(uninvited_hear))"
   ]
  },
  {
   "cell_type": "code",
   "execution_count": 59,
   "id": "213f7dc2",
   "metadata": {},
   "outputs": [
    {
     "data": {
      "text/html": [
       "<div>\n",
       "<style scoped>\n",
       "    .dataframe tbody tr th:only-of-type {\n",
       "        vertical-align: middle;\n",
       "    }\n",
       "\n",
       "    .dataframe tbody tr th {\n",
       "        vertical-align: top;\n",
       "    }\n",
       "\n",
       "    .dataframe thead th {\n",
       "        text-align: right;\n",
       "    }\n",
       "</style>\n",
       "<table border=\"1\" class=\"dataframe\">\n",
       "  <thead>\n",
       "    <tr style=\"text-align: right;\">\n",
       "      <th></th>\n",
       "      <th>Слепые</th>\n",
       "      <th>Там, внутри</th>\n",
       "      <th>Непрошенная</th>\n",
       "    </tr>\n",
       "  </thead>\n",
       "  <tbody>\n",
       "    <tr>\n",
       "      <th>Аудиальные элементы</th>\n",
       "      <td>82</td>\n",
       "      <td>21</td>\n",
       "      <td>47</td>\n",
       "    </tr>\n",
       "    <tr>\n",
       "      <th>Зрительные элементы</th>\n",
       "      <td>75</td>\n",
       "      <td>69</td>\n",
       "      <td>32</td>\n",
       "    </tr>\n",
       "  </tbody>\n",
       "</table>\n",
       "</div>"
      ],
      "text/plain": [
       "                     Слепые  Там, внутри  Непрошенная\n",
       "Аудиальные элементы      82           21           47\n",
       "Зрительные элементы      75           69           32"
      ]
     },
     "execution_count": 59,
     "metadata": {},
     "output_type": "execute_result"
    }
   ],
   "source": [
    "import pandas as pd \n",
    "df = pd.DataFrame()\n",
    "df['Слепые'] = [82, 75]\n",
    "df['Там, внутри'] = [21, 69]\n",
    "df['Непрошенная'] = [47, 32]\n",
    "df.index= ['Аудиальные элементы','Зрительные элементы'] \n",
    "df"
   ]
  },
  {
   "cell_type": "code",
   "execution_count": 84,
   "id": "d94dc8fa",
   "metadata": {},
   "outputs": [
    {
     "data": {
      "image/png": "[encoded data removed]",
      "text/plain": [
       "<Figure size 1000x600 with 1 Axes>"
      ]
     },
     "metadata": {},
     "output_type": "display_data"
    }
   ],
   "source": [
    "import matplotlib.pyplot as plt\n",
    "import numpy as np\n",
    "\n",
    "# Данные для диаграммы\n",
    "bar1 = [82,75]\n",
    "bar2 = [21,69]\n",
    "bar3 = [47,32]\n",
    "\n",
    "# Создаем фигуру и оси\n",
    "fig, ax = plt.subplots(figsize=(10,6))\n",
    "\n",
    "# Определяем ширину каждого столбца\n",
    "width = 0.3\n",
    "\n",
    "# Создаем три группы столбцов (по одной для каждого элемента данных)\n",
    "x = np.arange(2)\n",
    "ax.bar(x - width, bar1, width, label='Слепые')\n",
    "ax.bar(x, bar2, width, label='Там, внутри')\n",
    "ax.bar(x + width, bar3, width, label='Непрошенная')\n",
    "\n",
    "# Добавляем метки на оси X и легенду\n",
    "ax.set_xticks(x)\n",
    "ax.set_xticklabels(['Hear', 'See'])\n",
    "ax.legend()\n",
    "\n",
    "plt.show()"
   ]
  }
 ],
 "metadata": {
  "kernelspec": {
   "display_name": "Python 3 (ipykernel)",
   "language": "python",
   "name": "python3"
  },
  "language_info": {
   "codemirror_mode": {
    "name": "ipython",
    "version": 3
   },
   "file_extension": ".py",
   "mimetype": "text/x-python",
   "name": "python",
   "nbconvert_exporter": "python",
   "pygments_lexer": "ipython3",
   "version": "3.10.9"
  }
 },
 "nbformat": 4,
 "nbformat_minor": 5
}
